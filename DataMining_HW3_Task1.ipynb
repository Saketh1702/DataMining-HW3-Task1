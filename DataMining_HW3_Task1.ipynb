{
  "cells": [
    {
      "cell_type": "markdown",
      "source": [
        "Importing kmeans_saketh.py it is a python file which contains all the necessary functions for KMeans, mentioned in the github repository"
      ],
      "metadata": {
        "id": "G_hSE2WzQ0SF"
      },
      "id": "G_hSE2WzQ0SF"
    },
    {
      "cell_type": "code",
      "execution_count": 1,
      "id": "82c9cf2a-a99b-4a81-8745-d844002783fa",
      "metadata": {
        "id": "82c9cf2a-a99b-4a81-8745-d844002783fa"
      },
      "outputs": [],
      "source": [
        "import kmeans_saketh as km\n",
        "import numpy as np\n",
        "import scipy"
      ]
    },
    {
      "cell_type": "code",
      "execution_count": 2,
      "id": "fc6dc0d9-cfb4-4007-a683-0c9d10ff37c4",
      "metadata": {
        "id": "fc6dc0d9-cfb4-4007-a683-0c9d10ff37c4"
      },
      "outputs": [],
      "source": [
        "df = km.loadCSV('/content/data.csv')\n",
        "labels = km.loadCSV('/content/label.csv')"
      ]
    },
    {
      "cell_type": "code",
      "execution_count": 3,
      "id": "cc1c6760-9b8f-4243-8d50-868c1cb765a2",
      "metadata": {
        "colab": {
          "base_uri": "https://localhost:8080/"
        },
        "id": "cc1c6760-9b8f-4243-8d50-868c1cb765a2",
        "outputId": "a50bbe83-699e-490d-dd6d-6383f6446464"
      },
      "outputs": [
        {
          "output_type": "stream",
          "name": "stdout",
          "text": [
            "10\n"
          ]
        }
      ],
      "source": [
        "k = len(set(labels))\n",
        "print(k)"
      ]
    },
    {
      "cell_type": "markdown",
      "source": [
        "Run K-means clustering with Euclidean, Cosine and Jaccard similarity. Compare the SSEs of Euclidean-K-means, Cosine-K-means, Jaccard-K-means"
      ],
      "metadata": {
        "id": "hB_qzs5tRBDi"
      },
      "id": "hB_qzs5tRBDi"
    },
    {
      "cell_type": "code",
      "execution_count": null,
      "id": "942aaed6-544d-4dfb-a7b8-76a9b560a196",
      "metadata": {
        "id": "942aaed6-544d-4dfb-a7b8-76a9b560a196"
      },
      "outputs": [],
      "source": [
        "c_euclidean = km.kmeans(df,k,dist='euclidean')\n",
        "c_cosine = km.kmeans(df,k,dist='cosine')\n",
        "c_jaccard = km.kmeans(df,k,dist='jaccard')"
      ]
    },
    {
      "cell_type": "code",
      "execution_count": null,
      "id": "beb1da58-d0b3-48a7-8fe8-7cb9d869ddc7",
      "metadata": {
        "id": "beb1da58-d0b3-48a7-8fe8-7cb9d869ddc7"
      },
      "outputs": [],
      "source": [
        "print('SSE of Euclidean: ', c_euclidean['withinss'])\n",
        "print('SSE of Cosine: ', c_cosine['withinss'])\n",
        "print('SSE of Jaccard: ', c_jaccard['withinss'])"
      ]
    },
    {
      "cell_type": "markdown",
      "source": [
        "Compute the predictive accuracy of Euclidean-K-means, Cosine-K-means, Jaccard-K-means"
      ],
      "metadata": {
        "id": "0q9SeJESRP4e"
      },
      "id": "0q9SeJESRP4e"
    },
    {
      "cell_type": "code",
      "execution_count": null,
      "id": "69b91f7b-3f2d-4a9a-bd4b-31d4872dea08",
      "metadata": {
        "id": "69b91f7b-3f2d-4a9a-bd4b-31d4872dea08"
      },
      "outputs": [],
      "source": [
        "from tqdm import tqdm\n",
        "def label_clusters(clusters, labels, df):\n",
        "    # Convert df tuples to list for indexing\n",
        "    df_list = [list(instance) for instance in df]\n",
        "    cluster_labels = []\n",
        "    for cluster in clusters:\n",
        "        if not cluster:  # Skip empty clusters\n",
        "            continue\n",
        "        # Find the most frequent label in each cluster\n",
        "        label_counts = {}\n",
        "        for instance in cluster:\n",
        "            instance_label = labels[df_list.index(list(instance))]\n",
        "            label_counts[instance_label] = label_counts.get(instance_label, 0) + 1\n",
        "        most_frequent_label = max(label_counts, key=label_counts.get)\n",
        "        cluster_labels.append(most_frequent_label)\n",
        "    return cluster_labels\n",
        "\n",
        "def cal_acc(clusters, cluster_labels, actual_labels, df):\n",
        "    correct_assignments = 0\n",
        "    total_assignments = 0\n",
        "    df_list = [list(instance) for instance in df]\n",
        "    for cluster_index, cluster in enumerate(clusters):\n",
        "        for instance in cluster:\n",
        "            instance_index = df_list.index(list(instance))\n",
        "            actual_label = actual_labels[instance_index]\n",
        "            predicted_label = cluster_labels[cluster_index]\n",
        "            if actual_label == predicted_label:\n",
        "                correct_assignments += 1\n",
        "            total_assignments += 1\n",
        "    accuracy = correct_assignments / total_assignments if total_assignments > 0 else 0\n",
        "    return accuracy\n",
        "\n",
        "# Ensure df and labels are properly prepared for processing\n",
        "df_list = [list(instance) for instance in df]\n",
        "labels_list = [label[0] for label in labels]\n",
        "\n",
        "# Calculate accuracy for Euclidean\n",
        "euclidean_c_labels = label_clusters(c_euclidean['clusters'], labels_list, df)\n",
        "acc_euclidean = cal_acc(c_euclidean['clusters'], euclidean_c_labels, labels_list, df)\n",
        "\n",
        "# Repeat for Cosine and Jaccard\n",
        "cosine_c_labels = label_clusters(c_cosine['clusters'], labels_list, df)\n",
        "acc_cosine = cal_acc(c_cosine['clusters'], cosine_c_labels, labels_list, df)\n",
        "\n",
        "jaccard_c_labels = label_clusters(c_jaccard['clusters'], labels_list, df)\n",
        "acc_jaccard = cal_acc(c_jaccard['clusters'], jaccard_c_labels, labels_list, df)\n",
        "\n",
        "print('Accuracy of Euclidean:', acc_euclidean)\n",
        "print('Accuracy of Cosine:', acc_cosine)\n",
        "print('Accuracy of Jaccard:', acc_jaccard)"
      ]
    },
    {
      "cell_type": "markdown",
      "source": [
        "Setting up the stop criteria: “when there is no change in centroid position, when the SSE value increases in the next iteration, when the maximum preset value ( 100) of iteration is complete”, for Euclidean-K-means, Cosine-Kmeans, Jaccard-K-means."
      ],
      "metadata": {
        "id": "DQguXkHgRaeC"
      },
      "id": "DQguXkHgRaeC"
    },
    {
      "cell_type": "code",
      "execution_count": null,
      "id": "115e22d9-3f85-413c-acc1-f7a541310664",
      "metadata": {
        "id": "115e22d9-3f85-413c-acc1-f7a541310664"
      },
      "outputs": [],
      "source": [
        "from time import time\n",
        "\n",
        "def run_condition(condition, df,k):\n",
        "\n",
        "    euclidean_start = time()\n",
        "    c_euclidean = km.kmeans(df,k,dist='euclidean',condition=condition)\n",
        "    euclidean_time = time() - euclidean_start\n",
        "\n",
        "    print(\"Name: Euclidean \\t Time Taken: {} \\t Iteration Count: {}\".format(euclidean_time, c_euclidean['iterations']))\n",
        "\n",
        "    cosine_start = time()\n",
        "    c_cosine = km.kmeans(df,k,dist='cosine',condition=condition)\n",
        "    cosine_time = time() - cosine_start\n",
        "\n",
        "    print(\"Name: Cosine \\t Time Taken: {} \\t Iteration Count: {}\".format(cosine_time, c_cosine['iterations']))\n",
        "\n",
        "    jaccard_start = time()\n",
        "    c_jaccard = km.kmeans(df,k,dist='jaccard',condition=condition)\n",
        "    jaccard_time = time() - jaccard_start\n",
        "\n",
        "    print(\"Name: Jaccard \\t Time Taken: {} \\t Iteration Count: {}\".format(jaccard_time, c_jaccard['iterations']))"
      ]
    },
    {
      "cell_type": "markdown",
      "source": [
        "#Stopping Criteria"
      ],
      "metadata": {
        "id": "9Gl5Q2rjHTi3"
      },
      "id": "9Gl5Q2rjHTi3"
    },
    {
      "cell_type": "markdown",
      "source": [
        "When there is no change in centroid position"
      ],
      "metadata": {
        "id": "EWRnn_ulHZfG"
      },
      "id": "EWRnn_ulHZfG"
    },
    {
      "cell_type": "code",
      "execution_count": null,
      "id": "31193e3a-f397-4180-bba5-e18d64c170e7",
      "metadata": {
        "id": "31193e3a-f397-4180-bba5-e18d64c170e7"
      },
      "outputs": [],
      "source": [
        "run_condition('centroid',df,k)"
      ]
    },
    {
      "cell_type": "markdown",
      "source": [
        "When the SSE value increases in the next iteration"
      ],
      "metadata": {
        "id": "gSzLpUOyHfd7"
      },
      "id": "gSzLpUOyHfd7"
    },
    {
      "cell_type": "code",
      "execution_count": null,
      "id": "0c1f7003-0e66-4915-b456-1aaf5e9b5c28",
      "metadata": {
        "id": "0c1f7003-0e66-4915-b456-1aaf5e9b5c28"
      },
      "outputs": [],
      "source": [
        "run_condition('sse',df,k)"
      ]
    },
    {
      "cell_type": "markdown",
      "source": [
        "When the maximum preset value (100) of iteration is complete"
      ],
      "metadata": {
        "id": "O5JbqK5ZILdF"
      },
      "id": "O5JbqK5ZILdF"
    },
    {
      "cell_type": "code",
      "execution_count": null,
      "id": "13f783dc-0a4b-4066-8cb1-3360eef34f9a",
      "metadata": {
        "id": "13f783dc-0a4b-4066-8cb1-3360eef34f9a"
      },
      "outputs": [],
      "source": [
        "run_condition('iteration',df,k)"
      ]
    },
    {
      "cell_type": "markdown",
      "source": [
        "Compare the SSEs of Euclidean-K-means Cosine-K-means, Jarcard-K-means with respect to\n",
        "the following three terminating conditions"
      ],
      "metadata": {
        "id": "Czj5_765IYi0"
      },
      "id": "Czj5_765IYi0"
    },
    {
      "cell_type": "code",
      "execution_count": null,
      "id": "ea75868d-f194-4b83-a709-52a267fcfd15",
      "metadata": {
        "id": "ea75868d-f194-4b83-a709-52a267fcfd15"
      },
      "outputs": [],
      "source": [
        "def run_condition_sse(condition, df,k):\n",
        "\n",
        "    c_euclidean = km.kmeans(df,k,dist='euclidean',condition=condition)\n",
        "\n",
        "    print(\"Euclidean : {}\".format(c_euclidean['withinss']))\n",
        "\n",
        "    c_cosine = km.kmeans(df,k,dist='cosine',condition=condition)\n",
        "\n",
        "    print(\"Cosine : {}\".format(c_cosine['withinss']))\n",
        "\n",
        "    c_jaccard = km.kmeans(df,k,dist='jaccard',condition=condition)\n",
        "\n",
        "    print(\"Jaccard : {}\".format(c_jaccard['withinss']))"
      ]
    },
    {
      "cell_type": "markdown",
      "source": [
        "The SSEs of Euclidean-K-means Cosine-K-means, Jarcard-K-means when there is no change in centroid position"
      ],
      "metadata": {
        "id": "8f-dkvU5R_3t"
      },
      "id": "8f-dkvU5R_3t"
    },
    {
      "cell_type": "code",
      "execution_count": null,
      "id": "f7adbc71-b3f8-4b2a-bc13-f35794cc460a",
      "metadata": {
        "id": "f7adbc71-b3f8-4b2a-bc13-f35794cc460a"
      },
      "outputs": [],
      "source": [
        "run_condition_sse('centroid',df,k)"
      ]
    },
    {
      "cell_type": "markdown",
      "source": [
        "The SSEs of Euclidean-K-means Cosine-K-means, Jarcard-K-means when the SSE value increases in the next iteration"
      ],
      "metadata": {
        "id": "79NpaANESHYZ"
      },
      "id": "79NpaANESHYZ"
    },
    {
      "cell_type": "code",
      "execution_count": null,
      "id": "ef1d333b-6744-40e7-8b61-1096d19a1b16",
      "metadata": {
        "id": "ef1d333b-6744-40e7-8b61-1096d19a1b16"
      },
      "outputs": [],
      "source": [
        "run_condition_sse('sse',df,k)"
      ]
    },
    {
      "cell_type": "markdown",
      "source": [
        "The SSEs of Euclidean-K-means Cosine-K-means, Jarcard-K-means when the maximum preset value (100) of iteration is complete"
      ],
      "metadata": {
        "id": "pWIY-hy7SMFL"
      },
      "id": "pWIY-hy7SMFL"
    },
    {
      "cell_type": "code",
      "execution_count": null,
      "id": "69262fe8-254a-4409-a4d3-a9a90be59355",
      "metadata": {
        "id": "69262fe8-254a-4409-a4d3-a9a90be59355"
      },
      "outputs": [],
      "source": [
        "run_condition_sse('iteration',df,k)"
      ]
    }
  ],
  "metadata": {
    "kernelspec": {
      "display_name": "Python 3",
      "name": "python3"
    },
    "language_info": {
      "codemirror_mode": {
        "name": "ipython",
        "version": 3
      },
      "file_extension": ".py",
      "mimetype": "text/x-python",
      "name": "python",
      "nbconvert_exporter": "python",
      "pygments_lexer": "ipython3",
      "version": "3.11.7"
    },
    "colab": {
      "provenance": [],
      "gpuType": "T4"
    },
    "accelerator": "GPU"
  },
  "nbformat": 4,
  "nbformat_minor": 5
}